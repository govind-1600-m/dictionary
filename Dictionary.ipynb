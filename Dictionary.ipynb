{
 "cells": [
  {
   "cell_type": "code",
   "execution_count": 2,
   "id": "d4e77e16-7ef3-4653-9acf-c2caf90a811c",
   "metadata": {},
   "outputs": [
    {
     "data": {
      "text/plain": [
       "dict"
      ]
     },
     "execution_count": 2,
     "metadata": {},
     "output_type": "execute_result"
    }
   ],
   "source": [
    "d = {}\n",
    "type(d)"
   ]
  },
  {
   "cell_type": "code",
   "execution_count": 17,
   "id": "33ae7a10-2177-4588-aeb6-2c8bfb4cf416",
   "metadata": {},
   "outputs": [
    {
     "ename": "SyntaxError",
     "evalue": "invalid syntax. Perhaps you forgot a comma? (2423446670.py, line 1)",
     "output_type": "error",
     "traceback": [
      "\u001b[0;36m  Cell \u001b[0;32mIn[17], line 1\u001b[0;36m\u001b[0m\n\u001b[0;31m    d={\"name\": \"govind\" n/ \"email\":\"govind213245@gmail.com\" n/ \"contact\":9344543243}\u001b[0m\n\u001b[0m               ^\u001b[0m\n\u001b[0;31mSyntaxError\u001b[0m\u001b[0;31m:\u001b[0m invalid syntax. Perhaps you forgot a comma?\n"
     ]
    }
   ],
   "source": [
    "d={\"name\": \"govind\" n/ \"email\":\"govind213245@gmail.com\" n/ \"contact\":9344543243}\n"
   ]
  },
  {
   "cell_type": "code",
   "execution_count": 7,
   "id": "cecfdd86-7bc7-428c-a9c3-d5580340502e",
   "metadata": {},
   "outputs": [
    {
     "data": {
      "text/plain": [
       "dict"
      ]
     },
     "execution_count": 7,
     "metadata": {},
     "output_type": "execute_result"
    }
   ],
   "source": [
    "type(d)"
   ]
  },
  {
   "cell_type": "code",
   "execution_count": 8,
   "id": "6132b29c-866e-48dd-b4ca-1795bcfc663b",
   "metadata": {},
   "outputs": [
    {
     "data": {
      "text/plain": [
       "{'name': 'govind', 'email': 'govind213245@gmail.com', 'contact': 9344543243}"
      ]
     },
     "execution_count": 8,
     "metadata": {},
     "output_type": "execute_result"
    }
   ],
   "source": [
    "d"
   ]
  },
  {
   "cell_type": "code",
   "execution_count": 10,
   "id": "a7a2462c-3667-4af4-a0bc-89acf6308815",
   "metadata": {},
   "outputs": [
    {
     "ename": "TypeError",
     "evalue": "'dict' object is not callable",
     "output_type": "error",
     "traceback": [
      "\u001b[0;31m---------------------------------------------------------------------------\u001b[0m",
      "\u001b[0;31mTypeError\u001b[0m                                 Traceback (most recent call last)",
      "Cell \u001b[0;32mIn[10], line 1\u001b[0m\n\u001b[0;32m----> 1\u001b[0m \u001b[43md\u001b[49m\u001b[43m(\u001b[49m\u001b[38;5;124;43m\"\u001b[39;49m\u001b[38;5;124;43mname\u001b[39;49m\u001b[38;5;124;43m\"\u001b[39;49m\u001b[43m)\u001b[49m\n",
      "\u001b[0;31mTypeError\u001b[0m: 'dict' object is not callable"
     ]
    }
   ],
   "source": [
    "d(\"name\")"
   ]
  },
  {
   "cell_type": "code",
   "execution_count": 11,
   "id": "47cc3d3c-f005-44b2-993d-649c6606ac8a",
   "metadata": {},
   "outputs": [
    {
     "data": {
      "text/plain": [
       "{'name': 'govind', 'email': 'govind213245@gmail.com', 'contact': 9344543243}"
      ]
     },
     "execution_count": 11,
     "metadata": {},
     "output_type": "execute_result"
    }
   ],
   "source": [
    "d"
   ]
  },
  {
   "cell_type": "code",
   "execution_count": 12,
   "id": "5132e597-8904-4407-b19b-eb344a955e20",
   "metadata": {},
   "outputs": [
    {
     "data": {
      "text/plain": [
       "'govind'"
      ]
     },
     "execution_count": 12,
     "metadata": {},
     "output_type": "execute_result"
    }
   ],
   "source": [
    "d[\"name\"]"
   ]
  },
  {
   "cell_type": "code",
   "execution_count": 13,
   "id": "809a7aed-6d7a-4615-a265-06919ba969a2",
   "metadata": {},
   "outputs": [],
   "source": [
    "d[\"name\"]=\"vijay\""
   ]
  },
  {
   "cell_type": "code",
   "execution_count": 14,
   "id": "5ce7ef12-82f0-47de-a98a-0eeef7f07e50",
   "metadata": {},
   "outputs": [
    {
     "data": {
      "text/plain": [
       "{'name': 'vijay', 'email': 'govind213245@gmail.com', 'contact': 9344543243}"
      ]
     },
     "execution_count": 14,
     "metadata": {},
     "output_type": "execute_result"
    }
   ],
   "source": [
    "d"
   ]
  },
  {
   "cell_type": "code",
   "execution_count": 18,
   "id": "9a33989e-f4b5-4b92-a21d-c8e70e35a279",
   "metadata": {},
   "outputs": [
    {
     "data": {
      "text/plain": [
       "{'name': 'vijay', 'email': 'govind213245@gmail.com', 'contact': 9344543243}"
      ]
     },
     "execution_count": 18,
     "metadata": {},
     "output_type": "execute_result"
    }
   ],
   "source": [
    "d"
   ]
  },
  {
   "cell_type": "code",
   "execution_count": 19,
   "id": "e4325335-f7c7-410b-9e74-4a60cbb71519",
   "metadata": {},
   "outputs": [],
   "source": [
    "d={'name': 'vijay', 'email': 'govind213245@gmail.com', 'contact': 9344543243,\"name\":\"kirmada\"}"
   ]
  },
  {
   "cell_type": "code",
   "execution_count": 20,
   "id": "7f29e868-9cea-4ad6-a16c-5811aad2405c",
   "metadata": {},
   "outputs": [
    {
     "data": {
      "text/plain": [
       "{'name': 'kirmada', 'email': 'govind213245@gmail.com', 'contact': 9344543243}"
      ]
     },
     "execution_count": 20,
     "metadata": {},
     "output_type": "execute_result"
    }
   ],
   "source": [
    "d"
   ]
  },
  {
   "cell_type": "code",
   "execution_count": 25,
   "id": "b6c13d5d-618e-4bd7-aa3f-d61b742d40da",
   "metadata": {},
   "outputs": [],
   "source": [
    "d={\"name\": [\"govind\",\"kirmada\",1,2,2.5,], \"email\": \"govind213245@gmail.com\", \"contact\": 9344543243}"
   ]
  },
  {
   "cell_type": "code",
   "execution_count": 26,
   "id": "ae7b8ce2-2fe6-470d-a1f2-4c881ef45269",
   "metadata": {},
   "outputs": [
    {
     "data": {
      "text/plain": [
       "{'name': ['govind', 'kirmada', 1, 2, 2.5],\n",
       " 'email': 'govind213245@gmail.com',\n",
       " 'contact': 9344543243}"
      ]
     },
     "execution_count": 26,
     "metadata": {},
     "output_type": "execute_result"
    }
   ],
   "source": [
    "d"
   ]
  },
  {
   "cell_type": "code",
   "execution_count": 28,
   "id": "d3ba6488-0e2a-4d26-abdd-f6b2da8b463a",
   "metadata": {},
   "outputs": [
    {
     "data": {
      "text/plain": [
       "'kirmada'"
      ]
     },
     "execution_count": 28,
     "metadata": {},
     "output_type": "execute_result"
    }
   ],
   "source": [
    "d[\"name\"][1]"
   ]
  },
  {
   "cell_type": "code",
   "execution_count": 29,
   "id": "db9a8074-0dd4-4cfa-b48f-6665adf05c34",
   "metadata": {},
   "outputs": [],
   "source": [
    "d[\"address\"]= \"new delhi\""
   ]
  },
  {
   "cell_type": "code",
   "execution_count": 30,
   "id": "d3080dd8-d034-4e10-b5c1-9da5f68beba6",
   "metadata": {},
   "outputs": [
    {
     "data": {
      "text/plain": [
       "{'name': ['govind', 'kirmada', 1, 2, 2.5],\n",
       " 'email': 'govind213245@gmail.com',\n",
       " 'contact': 9344543243,\n",
       " 'address': 'new delhi'}"
      ]
     },
     "execution_count": 30,
     "metadata": {},
     "output_type": "execute_result"
    }
   ],
   "source": [
    "d"
   ]
  },
  {
   "cell_type": "code",
   "execution_count": 31,
   "id": "43997957-59fb-45a6-a6d9-1793b0d21559",
   "metadata": {},
   "outputs": [
    {
     "data": {
      "text/plain": [
       "4"
      ]
     },
     "execution_count": 31,
     "metadata": {},
     "output_type": "execute_result"
    }
   ],
   "source": [
    "len(d)"
   ]
  },
  {
   "cell_type": "code",
   "execution_count": 34,
   "id": "155cbb69-1a0f-4065-a8ee-02aa890b25aa",
   "metadata": {},
   "outputs": [
    {
     "data": {
      "text/plain": [
       "dict_keys(['name', 'email', 'contact', 'address'])"
      ]
     },
     "execution_count": 34,
     "metadata": {},
     "output_type": "execute_result"
    }
   ],
   "source": [
    "d.keys()"
   ]
  },
  {
   "cell_type": "code",
   "execution_count": 35,
   "id": "87fe0b06-ff62-4edf-8585-36082d9ccab6",
   "metadata": {},
   "outputs": [
    {
     "data": {
      "text/plain": [
       "dict_values([['govind', 'kirmada', 1, 2, 2.5], 'govind213245@gmail.com', 9344543243, 'new delhi'])"
      ]
     },
     "execution_count": 35,
     "metadata": {},
     "output_type": "execute_result"
    }
   ],
   "source": [
    "d.values()"
   ]
  },
  {
   "cell_type": "code",
   "execution_count": 38,
   "id": "947e0b01-dfd1-4836-a35d-c11b18c95b86",
   "metadata": {},
   "outputs": [
    {
     "data": {
      "text/plain": [
       "{1: (7, 8, 9, 8.5), 2: (7, 8, 9, 8.5), 34.5: (7, 8, 9, 8.5), 5: (7, 8, 9, 8.5)}"
      ]
     },
     "execution_count": 38,
     "metadata": {},
     "output_type": "execute_result"
    }
   ],
   "source": [
    "d.fromkeys((1,2,34.5,5),(7,8,9,8.5))"
   ]
  },
  {
   "cell_type": "code",
   "execution_count": 40,
   "id": "01909e00-41f4-4ec8-886e-4e66a595717d",
   "metadata": {},
   "outputs": [
    {
     "name": "stdout",
     "output_type": "stream",
     "text": [
      "('govind', 100)\n",
      "('kirmada', 95)\n",
      "('tanjiro', 45)\n",
      "('zoravar', 99)\n"
     ]
    }
   ],
   "source": [
    "students=[\"govind\",\"kirmada\",\"tanjiro\",\"zoravar\"]\n",
    "marks=[100,95,45,99]\n",
    "for i in zip(students,marks):\n",
    "    print(i)"
   ]
  },
  {
   "cell_type": "code",
   "execution_count": 57,
   "id": "a35099b4-5484-46e5-8193-a0cc72ba810a",
   "metadata": {},
   "outputs": [
    {
     "name": "stdout",
     "output_type": "stream",
     "text": [
      "(1, 9)\n",
      "(2, 8)\n",
      "(3, 7)\n",
      "(4, 6)\n",
      "(5, 5)\n",
      "(6, 4)\n",
      "(7, 3)\n",
      "(8, 2)\n",
      "(9, 1)\n"
     ]
    }
   ],
   "source": [
    "c=[1,2,3,4,5,6,7,8,9]\n",
    "c1=[9,8,7,6,5,4,3,2,1]\n",
    "for i in zip(c,c1):\n",
    "    print(i)\n"
   ]
  },
  {
   "cell_type": "code",
   "execution_count": 49,
   "id": "f754486f-6c52-419f-b706-e00d7c951356",
   "metadata": {},
   "outputs": [
    {
     "data": {
      "text/plain": [
       "[[1, 2, 3, 4, 5, 6, 7, 8, 9], [9, 8, 7, 6, 5, 4, 3, 2, 1]]"
      ]
     },
     "execution_count": 49,
     "metadata": {},
     "output_type": "execute_result"
    }
   ],
   "source": [
    "c2"
   ]
  },
  {
   "cell_type": "code",
   "execution_count": 63,
   "id": "11c84f7b-20aa-4d74-8cbd-2c2ea242df4f",
   "metadata": {},
   "outputs": [],
   "source": [
    "students=[\"govind\",\"kirmada\",\"tanjiro\",\"zoravar\"]\n",
    "marks=[100,95,45,99]\n",
    "student_marks = {}\n",
    "for student, mark in zip(students,marks):\n",
    "    student_marks[student]= mark"
   ]
  },
  {
   "cell_type": "code",
   "execution_count": 64,
   "id": "7f20a172-16f3-4e57-9948-ffdd704b7cb2",
   "metadata": {},
   "outputs": [
    {
     "data": {
      "text/plain": [
       "{'govind': 100, 'kirmada': 95, 'tanjiro': 45, 'zoravar': 99}"
      ]
     },
     "execution_count": 64,
     "metadata": {},
     "output_type": "execute_result"
    }
   ],
   "source": [
    "student_marks"
   ]
  },
  {
   "cell_type": "code",
   "execution_count": 65,
   "id": "0be9162c-7716-4753-9f92-b902edfa6774",
   "metadata": {},
   "outputs": [],
   "source": [
    "user_id=[1,2,3]"
   ]
  },
  {
   "cell_type": "code",
   "execution_count": 67,
   "id": "79c56dd9-f0ee-4832-944d-e15971638196",
   "metadata": {},
   "outputs": [
    {
     "data": {
      "text/plain": [
       "{1: 'govind', 2: 'ajay', 3: 'kirmada'}"
      ]
     },
     "execution_count": 67,
     "metadata": {},
     "output_type": "execute_result"
    }
   ],
   "source": [
    "user_id=[1,2,3]\n",
    "user_name=[\"govind\",\"ajay\",\"kirmada\"]\n",
    "{u_id:u_name for u_id, u_name in zip(user_id,user_name)}"
   ]
  },
  {
   "cell_type": "code",
   "execution_count": 69,
   "id": "d5e53202-0136-4676-b44a-b0c105a32ae5",
   "metadata": {},
   "outputs": [],
   "source": [
    "u_id={1: 'govind', 2: 'ajay', 3: 'kirmada'}"
   ]
  },
  {
   "cell_type": "code",
   "execution_count": 71,
   "id": "0d6f1a86-75c4-400f-bf46-6eec53124717",
   "metadata": {},
   "outputs": [
    {
     "data": {
      "text/plain": [
       "{1: 9, 2: 8, 3: 7, 4: 6, 5: 5, 6: 4, 7: 3, 8: 2, 9: 1}"
      ]
     },
     "execution_count": 71,
     "metadata": {},
     "output_type": "execute_result"
    }
   ],
   "source": [
    "c=[1,2,3,4,5,6,7,8,9]\n",
    "c1=[9,8,7,6,5,4,3,2,1]\n",
    "{c_id:c1_id for c_id,c1_id in zip(c,c1)}"
   ]
  },
  {
   "cell_type": "code",
   "execution_count": null,
   "id": "5766c0d7-577e-4777-b260-556b9a806ba8",
   "metadata": {},
   "outputs": [],
   "source": []
  }
 ],
 "metadata": {
  "kernelspec": {
   "display_name": "Python 3 (ipykernel)",
   "language": "python",
   "name": "python3"
  },
  "language_info": {
   "codemirror_mode": {
    "name": "ipython",
    "version": 3
   },
   "file_extension": ".py",
   "mimetype": "text/x-python",
   "name": "python",
   "nbconvert_exporter": "python",
   "pygments_lexer": "ipython3",
   "version": "3.10.8"
  }
 },
 "nbformat": 4,
 "nbformat_minor": 5
}
